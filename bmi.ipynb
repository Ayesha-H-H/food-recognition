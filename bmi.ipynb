{
 "cells": [
  {
   "cell_type": "code",
   "execution_count": 1,
   "id": "a3fdff1a",
   "metadata": {},
   "outputs": [],
   "source": [
    "import pandas as pd\n"
   ]
  },
  {
   "cell_type": "code",
   "execution_count": 2,
   "id": "4a0b48ba",
   "metadata": {},
   "outputs": [],
   "source": [
    "# Read the CSV file into a DataFrame\n",
    "df = pd.read_csv('Dataset.csv')\n"
   ]
  },
  {
   "cell_type": "code",
   "execution_count": 3,
   "id": "e54e02a6",
   "metadata": {},
   "outputs": [
    {
     "name": "stdout",
     "output_type": "stream",
     "text": [
      "   Unnamed: 0  age  weight(kg)  height(m) gender        BMI      BMR  \\\n",
      "0           1    2   16.097862   0.932025      F  18.531612  958.584   \n",
      "1           2    4   14.619374   0.916687      F  17.397496  932.383   \n",
      "2           4    4   17.899918   0.997288      F  17.997414  977.578   \n",
      "3           6    3   13.532880   1.022786      F  12.936609  944.689   \n",
      "4           8    4   17.039484   1.053977      M  15.338909  799.229   \n",
      "\n",
      "   activity_level  calories_to_maintain_weight  BMI_tags  Label  \n",
      "0             1.2                    1150.3008         8     13  \n",
      "1             1.7                    1585.0511         7      1  \n",
      "2             1.9                    1857.3982         7      4  \n",
      "3             1.9                    1794.9091         7      3  \n",
      "4             1.9                    1518.5351         7      0  \n",
      "<class 'pandas.core.frame.DataFrame'>\n",
      "RangeIndex: 10726 entries, 0 to 10725\n",
      "Data columns (total 11 columns):\n",
      " #   Column                       Non-Null Count  Dtype  \n",
      "---  ------                       --------------  -----  \n",
      " 0   Unnamed: 0                   10726 non-null  int64  \n",
      " 1   age                          10726 non-null  int64  \n",
      " 2   weight(kg)                   10726 non-null  float64\n",
      " 3   height(m)                    10726 non-null  float64\n",
      " 4   gender                       10726 non-null  object \n",
      " 5   BMI                          10726 non-null  float64\n",
      " 6   BMR                          10726 non-null  float64\n",
      " 7   activity_level               10726 non-null  float64\n",
      " 8   calories_to_maintain_weight  10726 non-null  float64\n",
      " 9   BMI_tags                     10726 non-null  int64  \n",
      " 10  Label                        10726 non-null  int64  \n",
      "dtypes: float64(6), int64(4), object(1)\n",
      "memory usage: 921.9+ KB\n",
      "None\n",
      "         Unnamed: 0           age    weight(kg)     height(m)           BMI  \\\n",
      "count  10726.000000  10726.000000  10726.000000  10726.000000  10726.000000   \n",
      "mean   11664.753123     26.778575     61.647728      1.540276     24.788317   \n",
      "std     6814.683196     18.201675     24.254566      0.186042      6.954637   \n",
      "min        1.000000      2.000000     12.005536      0.856328     10.342285   \n",
      "25%     5959.750000     13.000000     45.538375      1.564845     19.557137   \n",
      "50%    10695.500000     23.000000     61.323460      1.631282     23.056039   \n",
      "75%    17455.250000     36.000000     83.484585      1.632234     31.334294   \n",
      "max    23998.000000     90.000000     98.799820      1.633223     37.142927   \n",
      "\n",
      "                BMR  activity_level  calories_to_maintain_weight  \\\n",
      "count  10726.000000    10726.000000                 10726.000000   \n",
      "mean    1442.049923        1.487451                  2118.574075   \n",
      "std      250.686166        0.239625                   388.425427   \n",
      "min      667.941000        1.200000                   953.540900   \n",
      "25%     1320.322500        1.300000                  1815.879700   \n",
      "50%     1493.165000        1.500000                  2104.599800   \n",
      "75%     1602.488000        1.700000                  2405.301750   \n",
      "max     1914.374000        1.900000                  2949.075500   \n",
      "\n",
      "           BMI_tags         Label  \n",
      "count  10726.000000  10726.000000  \n",
      "mean       8.253496     19.332650  \n",
      "std        0.754767      9.746498  \n",
      "min        7.000000      0.000000  \n",
      "25%        8.000000     16.000000  \n",
      "50%        8.000000     20.000000  \n",
      "75%        9.000000     28.000000  \n",
      "max        9.000000     31.000000  \n"
     ]
    }
   ],
   "source": [
    "# View the first few rows\n",
    "print(df.head())\n",
    "\n",
    "# Get information about the dataset\n",
    "print(df.info())\n",
    "\n",
    "# Generate summary statistics\n",
    "print(df.describe())\n"
   ]
  },
  {
   "cell_type": "code",
   "execution_count": 6,
   "id": "a4f8c3ff",
   "metadata": {},
   "outputs": [
    {
     "name": "stdout",
     "output_type": "stream",
     "text": [
      "BMI_tags\n",
      "7    1737.041575\n",
      "8    2138.336653\n",
      "9    2265.814810\n",
      "Name: calories_to_maintain_weight, dtype: float64\n"
     ]
    }
   ],
   "source": [
    "avg_calorie_intake_by_bmi = df.groupby('BMI_tags')['calories_to_maintain_weight'].mean()\n",
    "print(avg_calorie_intake_by_bmi)\n",
    "\n"
   ]
  },
  {
   "cell_type": "code",
   "execution_count": 5,
   "id": "f5dcb910",
   "metadata": {},
   "outputs": [
    {
     "name": "stdout",
     "output_type": "stream",
     "text": [
      "Index(['Unnamed: 0', 'age', 'weight(kg)', 'height(m)', 'gender', 'BMI', 'BMR',\n",
      "       'activity_level', 'calories_to_maintain_weight', 'BMI_tags', 'Label'],\n",
      "      dtype='object')\n"
     ]
    }
   ],
   "source": [
    "print(df.columns)\n"
   ]
  },
  {
   "cell_type": "code",
   "execution_count": 7,
   "id": "09a5906f",
   "metadata": {},
   "outputs": [],
   "source": [
    " df.to_csv('processed_data.csv', index=False)\n"
   ]
  },
  {
   "cell_type": "code",
   "execution_count": null,
   "id": "ca19a7ca",
   "metadata": {},
   "outputs": [],
   "source": []
  }
 ],
 "metadata": {
  "kernelspec": {
   "display_name": "Python 3 (ipykernel)",
   "language": "python",
   "name": "python3"
  },
  "language_info": {
   "codemirror_mode": {
    "name": "ipython",
    "version": 3
   },
   "file_extension": ".py",
   "mimetype": "text/x-python",
   "name": "python",
   "nbconvert_exporter": "python",
   "pygments_lexer": "ipython3",
   "version": "3.11.4"
  }
 },
 "nbformat": 4,
 "nbformat_minor": 5
}
